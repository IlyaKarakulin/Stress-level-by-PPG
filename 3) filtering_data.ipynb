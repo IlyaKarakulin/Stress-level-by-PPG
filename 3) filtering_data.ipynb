{
 "cells": [
  {
   "cell_type": "code",
   "execution_count": 1,
   "metadata": {},
   "outputs": [],
   "source": [
    "import pandas as pd\n",
    "import matplotlib.pyplot as plt\n",
    "import numpy as np\n",
    "import scipy.signal as signal\n",
    "from scipy.interpolate import interp1d"
   ]
  },
  {
   "cell_type": "code",
   "execution_count": 2,
   "metadata": {},
   "outputs": [],
   "source": [
    "def conv(signal, kernel):\n",
    "    signal_length = len(signal)\n",
    "    kernel_length = len(kernel)\n",
    "    output_length = signal_length - kernel_length + 1\n",
    "    result = np.zeros(output_length)\n",
    "\n",
    "    for i in range(output_length):\n",
    "        signal_slice = signal[i:i + kernel_length]\n",
    "        norm_signal_slice = signal_slice / np.linalg.norm(signal_slice)\n",
    "        norm_kernel = kernel / np.linalg.norm(signal_slice)\n",
    "        \n",
    "        result[i] = np.dot(norm_signal_slice, norm_kernel)\n",
    "        \n",
    "    return result"
   ]
  },
  {
   "cell_type": "code",
   "execution_count": 3,
   "metadata": {},
   "outputs": [],
   "source": [
    "def amplitude_in_band(conv_res, min_fr, max_fr):\n",
    "    frequencies, times, Zxx = signal.stft(\n",
    "        conv_res,\n",
    "        fs=64,\n",
    "        window='hann',\n",
    "        nperseg=256,\n",
    "        noverlap=250\n",
    "    )\n",
    "\n",
    "    freq_mask = (frequencies >= min_fr) & (frequencies <= max_fr)\n",
    "\n",
    "    amplitude_in_band = np.mean(np.abs(Zxx[freq_mask, :]), axis=0)\n",
    "\n",
    "    return amplitude_in_band\n"
   ]
  },
  {
   "cell_type": "code",
   "execution_count": 4,
   "metadata": {},
   "outputs": [],
   "source": [
    "def create_mask(min_amplitude, max_amplitude, min_len_interval, amplitude_in_band, len_ppg):\n",
    "    cross_above_min = np.where((amplitude_in_band[:-1] < min_amplitude) & (amplitude_in_band[1:] >= min_amplitude))[0] + 1\n",
    "    cross_below_min = np.where((amplitude_in_band[:-1] >= min_amplitude) & (amplitude_in_band[1:] < min_amplitude))[0] + 1\n",
    "\n",
    "    intervals = []\n",
    "    start = None\n",
    "    \n",
    "    if amplitude_in_band[0] >= min_amplitude:\n",
    "        start = 0\n",
    "        \n",
    "    for i in range(len(cross_above_min)):\n",
    "        start = cross_above_min[i]\n",
    "        \n",
    "        end_candidates = cross_below_min[cross_below_min > start]\n",
    "        if len(end_candidates) == 0:\n",
    "            break\n",
    "        end = end_candidates[0]\n",
    "        \n",
    "        intervals.append((start, end))\n",
    "        \n",
    "        start = None\n",
    "\n",
    "    valid_intervals = []\n",
    "    for start, end in intervals:\n",
    "        if np.any(amplitude_in_band[start:end] > max_amplitude) or ((end - start) < min_len_interval):\n",
    "            continue\n",
    "        valid_intervals.append((start, end))\n",
    "\n",
    "    time_mask = np.zeros_like(amplitude_in_band, dtype=bool)\n",
    "    for start, end in valid_intervals:\n",
    "        time_mask[start:end] = True\n",
    "\n",
    "\n",
    "    # kernel = np.ones(10)\n",
    "    # time_mask = binary_closing(time_mask, kernel)\n",
    "    # time_mask_clean = binary_opening(time_mask, kernel)\n",
    "\n",
    "    indices_mask = np.arange(len(time_mask))\n",
    "    indices_ppg = np.linspace(0, len(time_mask) - 1, len_ppg)\n",
    "\n",
    "    mask_func = interp1d(\n",
    "        indices_mask,\n",
    "        time_mask,\n",
    "        kind='nearest',\n",
    "        bounds_error=False,\n",
    "        fill_value=False\n",
    "    )\n",
    "\n",
    "    full_mask = mask_func(indices_ppg).astype(bool)\n",
    "\n",
    "    return full_mask\n"
   ]
  },
  {
   "cell_type": "code",
   "execution_count": 5,
   "metadata": {},
   "outputs": [],
   "source": [
    "def drow_data(ppg, person_name, status):\n",
    "    if len(ppg) > 0:\n",
    "        wigth = len(ppg) // 64\n",
    "        figr = plt.figure(figsize=(wigth, 6))\n",
    "        plt.plot(ppg)\n",
    "        plt.grid(True)  \n",
    "        plt.ylim(-40, 40)\n",
    "        plt.savefig(f'/home/ilya/Documents/stress-level-by-PPG/filt_data/{person_name}_{status}.png', dpi=300, bbox_inches='tight')\n",
    "        plt.close(figr)\n"
   ]
  },
  {
   "cell_type": "code",
   "execution_count": 6,
   "metadata": {},
   "outputs": [],
   "source": [
    "min_fr = 0.8\n",
    "max_rf = 2.1\n",
    "min_amp = 0.08\n",
    "max_amp = 0.25\n",
    "min_interval_len = 64"
   ]
  },
  {
   "cell_type": "code",
   "execution_count": 7,
   "metadata": {},
   "outputs": [],
   "source": [
    "data = pd.read_pickle(f'/home/ilya/Documents/stress-level-by-PPG/data.pkl')\n",
    "reference_wave = np.load('./reference_wave.npy')"
   ]
  },
  {
   "cell_type": "code",
   "execution_count": null,
   "metadata": {},
   "outputs": [],
   "source": [
    "for person_name, person_data in data.items():\n",
    "    ppg = person_data['PPG_stress']\n",
    "\n",
    "    conv_res = conv(ppg, reference_wave)\n",
    "    res_amplitude = amplitude_in_band(conv_res, min_fr, max_rf)\n",
    "    mask = create_mask(min_amp, max_amp, min_interval_len, res_amplitude, len(ppg))\n",
    "    filt_ppg = ppg[mask]\n",
    "\n",
    "    drow_data(filt_ppg, person_name, \"stress\")"
   ]
  },
  {
   "cell_type": "code",
   "execution_count": 12,
   "metadata": {},
   "outputs": [],
   "source": [
    "# test_ppg = data['S5']['PPG_stress']\n",
    "# conv_res = conv(test_ppg, reference_wave)\n",
    "# res_amplitude = amplitude_in_band(conv_res, min_fr, max_rf)\n",
    "# mask = create_mask(min_amp, max_amp, min_interval_len, res_amplitude, len(test_ppg))\n",
    "# filt_ppg = test_ppg[mask]\n",
    "\n",
    "# plt.figure(figsize=(200, 12))\n",
    "\n",
    "# plt.subplot(4, 1, 1)\n",
    "# plt.plot(test_ppg)\n",
    "# plt.ylim(-100, 100)\n",
    "# plt.grid(True)\n",
    "\n",
    "# plt.subplot(4, 1, 2)\n",
    "# plt.plot(conv_res)\n",
    "# plt.ylim(-2, 2)\n",
    "# plt.grid(True)\n",
    "\n",
    "# plt.subplot(4, 1, 3)\n",
    "# plt.plot(res_amplitude)\n",
    "# plt.plot([min_amp] * len(res_amplitude))\n",
    "# plt.plot([max_amp] * len(res_amplitude))\n",
    "# plt.ylim(0, 1)\n",
    "# plt.grid(True)\n",
    "\n",
    "# plt.subplot(4, 1, 4)\n",
    "# plt.plot(mask)\n",
    "# plt.ylim(-1, 2)\n",
    "\n",
    "# plt.savefig(f'/home/ilya/Documents/stress-level-by-PPG/ppg-conv-ampl-mask.png', dpi=300, bbox_inches='tight')\n",
    "# plt.show()"
   ]
  },
  {
   "cell_type": "code",
   "execution_count": 13,
   "metadata": {},
   "outputs": [],
   "source": [
    "# filt_ppg = ppg[mask]\n",
    "\n",
    "# plt.figure(figsize=(50, 4))\n",
    "# plt.plot(filt_ppg)\n",
    "# plt.grid(True)\n",
    "# plt.savefig(f'./res_filt_signal.png', dpi=300, bbox_inches='tight')"
   ]
  }
 ],
 "metadata": {
  "kernelspec": {
   "display_name": "SOBES",
   "language": "python",
   "name": "python3"
  },
  "language_info": {
   "codemirror_mode": {
    "name": "ipython",
    "version": 3
   },
   "file_extension": ".py",
   "mimetype": "text/x-python",
   "name": "python",
   "nbconvert_exporter": "python",
   "pygments_lexer": "ipython3",
   "version": "3.13.2"
  }
 },
 "nbformat": 4,
 "nbformat_minor": 2
}
