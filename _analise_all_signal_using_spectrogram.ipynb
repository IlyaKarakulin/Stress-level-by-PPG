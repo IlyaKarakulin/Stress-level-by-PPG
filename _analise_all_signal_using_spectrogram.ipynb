{
 "cells": [
  {
   "cell_type": "code",
   "execution_count": 1,
   "metadata": {},
   "outputs": [],
   "source": [
    "import pandas as pd\n",
    "import matplotlib.pyplot as plt\n",
    "import numpy as np\n",
    "import scipy.signal as signal"
   ]
  },
  {
   "cell_type": "code",
   "execution_count": 8,
   "metadata": {},
   "outputs": [],
   "source": [
    "data = pd.read_pickle(f'/home/ilya/Documents/stress-level-by-PPG/data.pkl')\n",
    "ppg = data['S2']['PPG_stress']"
   ]
  },
  {
   "cell_type": "code",
   "execution_count": null,
   "metadata": {},
   "outputs": [
    {
     "name": "stdout",
     "output_type": "stream",
     "text": [
      "[0.5  0.75 1.   1.25 1.5  1.75 2.   2.25 2.5  2.75 3.   3.25 3.5  3.75\n",
      " 4.   4.25 4.5  4.75 5.   5.25 5.5  5.75 6.  ]\n"
     ]
    }
   ],
   "source": [
    "frequencies, times, Zxx = signal.stft(\n",
    "    ppg, \n",
    "    fs=64, \n",
    "    window='hann', \n",
    "    nperseg=256,\n",
    "    noverlap=250\n",
    ")\n",
    "\n",
    "spectrogram = np.abs(Zxx)\n",
    "# print(frequencies)\n",
    "\n",
    "# Маска для целевой частоты\n",
    "min_fr = 0.5\n",
    "max_fr = 6\n",
    "freq_mask = (frequencies >= min_fr) & (frequencies <= max_fr)\n",
    "print(frequencies[freq_mask])\n",
    "\n",
    "# Амплитуда в целевой полосе\n",
    "amplitude_in_band = np.mean(np.abs(Zxx[freq_mask, :]), axis=0)\n",
    "\n",
    "wight = len(ppg) / 64\n",
    "plt.figure(figsize=(wight, 7))\n",
    "\n",
    "plt.subplot(2, 1, 1)\n",
    "plt.pcolormesh(times, frequencies[freq_mask], spectrogram[freq_mask, : ], shading='gouraud', cmap='magma')\n",
    "# plt.colorbar(label='Амплитуда (дБ)')\n",
    "plt.ylabel('Частота (Гц)')\n",
    "plt.title('Спектрограмма')\n",
    "\n",
    "plt.subplot(2, 1, 2)\n",
    "plt.plot(ppg)\n",
    "plt.ylabel('Амплитуда')\n",
    "plt.title(f'PPG')\n",
    "plt.grid(True)\n",
    "plt.margins(x=0)\n",
    "plt.ylim(-40, 40)\n",
    "\n",
    "plt.savefig(f'/home/ilya/Documents/stress-level-by-PPG/spgrm_ppg_st.png', dpi=300, bbox_inches='tight')\n",
    "\n",
    "\n",
    "plt.close()\n",
    "# plt.show()"
   ]
  }
 ],
 "metadata": {
  "kernelspec": {
   "display_name": "SOBES",
   "language": "python",
   "name": "python3"
  },
  "language_info": {
   "codemirror_mode": {
    "name": "ipython",
    "version": 3
   },
   "file_extension": ".py",
   "mimetype": "text/x-python",
   "name": "python",
   "nbconvert_exporter": "python",
   "pygments_lexer": "ipython3",
   "version": "3.13.2"
  }
 },
 "nbformat": 4,
 "nbformat_minor": 2
}
