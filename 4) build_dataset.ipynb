{
 "cells": [
  {
   "cell_type": "code",
   "execution_count": 34,
   "metadata": {},
   "outputs": [],
   "source": [
    "import pandas as pd\n",
    "import heartpy as hp"
   ]
  },
  {
   "cell_type": "code",
   "execution_count": 35,
   "metadata": {},
   "outputs": [],
   "source": [
    "data = pd.read_pickle(f'/home/ilya/Documents/stress-level-by-PPG/filt_dataset.pkl')"
   ]
  },
  {
   "cell_type": "code",
   "execution_count": 36,
   "metadata": {},
   "outputs": [
    {
     "name": "stdout",
     "output_type": "stream",
     "text": [
      "Count sec for ppg signal\n",
      "S4: md: 0, st: 14\n",
      "S7: md: 270, st: 14\n",
      "S13: md: 0, st: 0\n",
      "S2: md: 271, st: 12\n",
      "S14: md: 383, st: 0\n",
      "S17: md: 34, st: 58\n",
      "S3: md: 24, st: 13\n",
      "S8: md: 0, st: 0\n",
      "S9: md: 0, st: 93\n",
      "S11: md: 0, st: 0\n",
      "S16: md: 0, st: 13\n",
      "S15: md: 295, st: 196\n",
      "S6: md: 27, st: 58\n",
      "S10: md: 334, st: 16\n",
      "S5: md: 162, st: 0\n"
     ]
    }
   ],
   "source": [
    "print(f'Count sec for ppg signal')\n",
    "\n",
    "for person_name, person_data in data.items():\n",
    "    print(f'{person_name}: md: {len(person_data['PPG_medit']) // 64}, st: {len(person_data['PPG_stress']) // 64}')"
   ]
  },
  {
   "cell_type": "code",
   "execution_count": 37,
   "metadata": {},
   "outputs": [],
   "source": [
    "fr_ppg = 64\n",
    "wind_size = 10 * fr_ppg\n",
    "\n",
    "dataset = []"
   ]
  },
  {
   "cell_type": "code",
   "execution_count": 38,
   "metadata": {},
   "outputs": [],
   "source": [
    "def add_to_dataset(ppg, label):\n",
    "    i = wind_size\n",
    "    \n",
    "    if len(ppg) >= (wind_size * 2):\n",
    "        while(i + wind_size < len(ppg)):\n",
    "            slice_ppg = ppg[i - wind_size : i + wind_size]\n",
    "            _, m = hp.process(hp.scale_data(slice_ppg), sample_rate=fr_ppg, clean_rr=True)\n",
    "\n",
    "            m['stress_index'] = label\n",
    "            dataset.append(m)\n",
    "            i += wind_size\n",
    "\n",
    "    elif len(ppg) > 10 * fr_ppg:\n",
    "        _, m = hp.process(ppg, sample_rate=fr_ppg)\n",
    "        m['stress_index'] = label\n",
    "        dataset.append(m)"
   ]
  },
  {
   "cell_type": "code",
   "execution_count": 39,
   "metadata": {},
   "outputs": [
    {
     "name": "stderr",
     "output_type": "stream",
     "text": [
      "/home/ilya/miniconda3/envs/SOBES/lib/python3.13/site-packages/heartpy/analysis.py:677: UserWarning: \n",
      "The maximal number of iterations maxit (set to 20 by the program)\n",
      "allowed for finding a smoothing spline with fp=s has been reached: s\n",
      "too small.\n",
      "There is an approximation returned but the corresponding weighted sum\n",
      "of squared residuals does not satisfy the condition abs(fp-s)/s < tol.\n",
      "  interp = UnivariateSpline(x, rrlist, k=3)\n",
      "/home/ilya/miniconda3/envs/SOBES/lib/python3.13/site-packages/numpy/ma/core.py:5445: RuntimeWarning: Mean of empty slice.\n",
      "  result = super().mean(axis=axis, dtype=dtype, **kwargs)[()]\n",
      "/home/ilya/miniconda3/envs/SOBES/lib/python3.13/site-packages/numpy/_core/fromnumeric.py:4268: RuntimeWarning: Degrees of freedom <= 0 for slice\n",
      "  return _methods._var(a, axis=axis, dtype=dtype, out=out, ddof=ddof,\n"
     ]
    }
   ],
   "source": [
    "for person_name, person_data in data.items():\n",
    "    ppg = person_data['PPG_medit']\n",
    "    add_to_dataset(ppg, person_data['stress_lvl_for_medit'])\n",
    "\n",
    "    ppg = person_data['PPG_stress']\n",
    "    add_to_dataset(ppg, person_data['stress_lvl_for_stress'])\n"
   ]
  },
  {
   "cell_type": "code",
   "execution_count": 45,
   "metadata": {},
   "outputs": [],
   "source": [
    "pd_dataset = pd.DataFrame(dataset)\n",
    "pd_dataset.to_csv(\"ppg_feature.csv\", index=False)"
   ]
  },
  {
   "cell_type": "code",
   "execution_count": 41,
   "metadata": {},
   "outputs": [],
   "source": [
    "# signals, info = nk.ppg_process(ppg, sampling_rate=64)\n",
    "# nk.ppg_plot(signals, info)"
   ]
  }
 ],
 "metadata": {
  "kernelspec": {
   "display_name": "SOBES",
   "language": "python",
   "name": "python3"
  },
  "language_info": {
   "codemirror_mode": {
    "name": "ipython",
    "version": 3
   },
   "file_extension": ".py",
   "mimetype": "text/x-python",
   "name": "python",
   "nbconvert_exporter": "python",
   "pygments_lexer": "ipython3",
   "version": "3.13.2"
  }
 },
 "nbformat": 4,
 "nbformat_minor": 2
}
