{
 "cells": [
  {
   "cell_type": "code",
   "execution_count": 11,
   "id": "5089e135",
   "metadata": {},
   "outputs": [],
   "source": [
    "import os\n",
    "import json\n",
    "import pandas as pd\n",
    "import numpy as np\n",
    "\n",
    "from dataset_builder import PPGDatasetBulder\n"
   ]
  },
  {
   "cell_type": "code",
   "execution_count": 2,
   "id": "1ea1509f",
   "metadata": {},
   "outputs": [
    {
     "name": "stdout",
     "output_type": "stream",
     "text": [
      "data.ipynb  __pycache__  spgrm_filter.py  test_filter.ipynb\n"
     ]
    }
   ],
   "source": [
    "!ls"
   ]
  },
  {
   "cell_type": "code",
   "execution_count": 12,
   "id": "245e5308",
   "metadata": {},
   "outputs": [],
   "source": [
    "if __name__ == \"__main__\":\n",
    "\n",
    "    data_dir = '../dataframe'\n",
    "    annotations_dir = '../dataframe/annotations.json'\n",
    "\n",
    "\n",
    "    builder = PPGDatasetBulder(ppg_fr=256)\n",
    "\n",
    "    with open(annotations_dir, 'r') as f:\n",
    "        files_to_process = json.load(f)\n",
    "\n",
    "    for file_info in files_to_process:\n",
    "        builder.process_file(\n",
    "            os.path.join(data_dir, file_info['file_path']),\n",
    "            file_info['annotations']\n",
    "        )\n",
    "\n",
    "builder.save('dataset.npy')"
   ]
  },
  {
   "cell_type": "code",
   "execution_count": 10,
   "id": "fc81865e",
   "metadata": {},
   "outputs": [
    {
     "data": {
      "text/plain": [
       "array([[array([15749161, 15749252, 15749113, ..., 15714544, 15714282, 15714499]),\n",
       "        1],\n",
       "       [array([15711285, 15711216, 15711631, ..., 15718670, 15718812, 15718712]),\n",
       "        3],\n",
       "       [array([15708851, 15708438, 15708871, ..., 15787785, 15787658, 15787882]),\n",
       "        1],\n",
       "       [array([15788112, 15787780, 15788316, ..., 15856633, 15856669, 15856692]),\n",
       "        4],\n",
       "       [array([15641597, 15641281, 15641614, ..., 15593907, 15593995, 15594193]),\n",
       "        1],\n",
       "       [array([15599287, 15599696, 15599335, ..., 15596336, 15596378, 15596154]),\n",
       "        4],\n",
       "       [array([15727530, 15727446, 15727670, ..., 15732301, 15731947, 15731769]),\n",
       "        2],\n",
       "       [array([15764114, 15764184, 15764289, ..., 15748987, 15748826, 15748933]),\n",
       "        1],\n",
       "       [array([15748594, 15748365, 15748353, ..., 15749771, 15750034, 15750275]),\n",
       "        3],\n",
       "       [array([15750022, 15750023, 15750198, ..., 15749102, 15748734, 15749401]),\n",
       "        2],\n",
       "       [array([15749396, 15750422, 15748848, ..., 15749722, 15749450, 15748892]),\n",
       "        4],\n",
       "       [array([15749383, 15749318, 15749265, ..., 15748169, 15748227, 15748352]),\n",
       "        3],\n",
       "       [array([15749456, 15749634, 15749547, ..., 15732558, 15732777, 15732726]),\n",
       "        4],\n",
       "       [array([15701617, 15701530, 15701688, ..., 15730024, 15730067, 15730024]),\n",
       "        4],\n",
       "       [array([15746112, 15746272, 15746515, ..., 15746742, 15746407, 15746291]),\n",
       "        5],\n",
       "       [array([15664117, 15664262, 15663747, ..., 15686455, 15686562, 15686244]),\n",
       "        1],\n",
       "       [array([15777391, 15779576, 15778295, ..., 15615051, 15615228, 15620801]),\n",
       "        3],\n",
       "       [array([15615943, 15615516, 15615338, ..., 15842600, 15842479, 15842631]),\n",
       "        4],\n",
       "       [array([15583566, 15583934, 15584359, ..., 15654550, 15654653, 15655016]),\n",
       "        4],\n",
       "       [array([15728845, 15729074, 15729121, ..., 15732622, 15732377, 15731881]),\n",
       "        3]], dtype=object)"
      ]
     },
     "execution_count": 10,
     "metadata": {},
     "output_type": "execute_result"
    }
   ],
   "source": [
    "dataset = np.load('dataset.npy', allow_pickle=True)\n",
    "\n",
    "dataset"
   ]
  }
 ],
 "metadata": {
  "kernelspec": {
   "display_name": "comp_nets_env",
   "language": "python",
   "name": "python3"
  },
  "language_info": {
   "codemirror_mode": {
    "name": "ipython",
    "version": 3
   },
   "file_extension": ".py",
   "mimetype": "text/x-python",
   "name": "python",
   "nbconvert_exporter": "python",
   "pygments_lexer": "ipython3",
   "version": "3.13.2"
  }
 },
 "nbformat": 4,
 "nbformat_minor": 5
}
