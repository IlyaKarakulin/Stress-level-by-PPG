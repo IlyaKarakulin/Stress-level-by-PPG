{
 "cells": [
  {
   "cell_type": "code",
   "execution_count": 100,
   "metadata": {},
   "outputs": [],
   "source": [
    "import pandas as pd\n",
    "import heartpy as hp\n",
    "import neurokit2 as nk\n",
    "import numpy as np\n",
    "import matplotlib.pyplot as plt\n"
   ]
  },
  {
   "cell_type": "code",
   "execution_count": 101,
   "metadata": {},
   "outputs": [
    {
     "data": {
      "text/plain": [
       "array([-77.04676535, -71.09153326, -65.49605614, ..., 159.82573384,\n",
       "       141.34695932, 123.78175725], shape=(23040,))"
      ]
     },
     "execution_count": 101,
     "metadata": {},
     "output_type": "execute_result"
    }
   ],
   "source": [
    "# data = pd.read_pickle(f'/home/ilya/Documents/stress-level-by-PPG/working with WESAD/filt_dataset.pkl')\n",
    "# data = pd.read_pickle(f'/home/ilya/Documents/stress-level-by-PPG/working with WESAD/filt_dataset.pkl')\n",
    "\n",
    "ppg = np.load('/home/ilya/Documents/stress-level-by-PPG/working with braslet/ppg.npy')\n",
    "ppg"
   ]
  },
  {
   "cell_type": "code",
   "execution_count": 102,
   "metadata": {},
   "outputs": [],
   "source": [
    "def drow_data(ppg):\n",
    "    if len(ppg) > 0:\n",
    "        wigth = len(ppg) // 256\n",
    "        figr = plt.figure(figsize=(wigth, 6))\n",
    "        plt.plot(ppg)\n",
    "        plt.grid(True)  \n",
    "        plt.savefig(f'/home/ilya/Documents/stress-level-by-PPG/working with WESAD/penis_blyat.png', dpi=300, bbox_inches='tight')\n",
    "        plt.close(figr)"
   ]
  },
  {
   "cell_type": "code",
   "execution_count": 103,
   "metadata": {},
   "outputs": [],
   "source": [
    "drow_data(ppg)"
   ]
  },
  {
   "cell_type": "code",
   "execution_count": 104,
   "metadata": {},
   "outputs": [],
   "source": [
    "# test_ppg = data['S15']['PPG_medit'][0:20 * 64]\n",
    "# signals, info = nk.ppg_process(test_ppg, sampling_rate=64)\n",
    "# nk.ppg_plot(signals, info)"
   ]
  },
  {
   "cell_type": "code",
   "execution_count": 105,
   "metadata": {},
   "outputs": [],
   "source": [
    "fr_ppg = 256\n",
    "wind_size = 10 * fr_ppg\n",
    "\n",
    "\n",
    "dataset = []\n",
    "feature = ['HRV_MeanNN', 'HRV_SDNN', 'HRV_RMSSD', 'HRV_SDSD', 'HRV_CVNN', 'HRV_CVSD', 'HRV_MedianNN', 'HRV_MadNN', 'HRV_pNN50', 'HRV_pNN20', 'HRV_MinNN', 'HRV_MaxNN', 'HRV_HTI', 'HRV_TINN', 'HRV_HF', 'stress_index']"
   ]
  },
  {
   "cell_type": "code",
   "execution_count": 106,
   "metadata": {},
   "outputs": [],
   "source": [
    "def get_feature_hp(signal, label):\n",
    "    _, m = hp.process(hp.scale_data(signal), sample_rate=fr_ppg, clean_rr=True)\n",
    "    m['stress_index'] = label\n",
    "    return m\n",
    "\n",
    "def get_feature_nk(signal, label):\n",
    "    peaks, _ = nk.ppg_peaks(signal, sampling_rate=fr_ppg, show=False)\n",
    "    custom_scales = [4, 8, 16]\n",
    "\n",
    "    hrv_indixes = nk.hrv(\n",
    "        peaks, \n",
    "        sampling_rate=fr_ppg,\n",
    "        nonlinear_kwargs={\"scale\": custom_scales}\n",
    "    )\n",
    "    hrv_indixes['stress_index'] = label\n",
    "\n",
    "    filt_hrv_indixes = hrv_indixes[feature]\n",
    "    return filt_hrv_indixes.iloc[0].to_dict()\n"
   ]
  },
  {
   "cell_type": "code",
   "execution_count": 107,
   "metadata": {},
   "outputs": [],
   "source": [
    "def add_to_dataset(ppg, label):\n",
    "    i = wind_size\n",
    "    \n",
    "    while(i + wind_size < len(ppg)):\n",
    "        slice_ppg = ppg[i - wind_size : i + wind_size]\n",
    "        dataset.append(get_feature_nk(slice_ppg, label))\n",
    "        i += wind_size\n",
    "\n",
    "    # elif len(ppg) > 10 * fr_ppg:\n",
    "    #     dataset.append(get_feature_nk(ppg, label))"
   ]
  },
  {
   "cell_type": "code",
   "execution_count": 108,
   "metadata": {},
   "outputs": [
    {
     "name": "stderr",
     "output_type": "stream",
     "text": [
      "/home/ilya/miniconda3/envs/PPG/lib/python3.10/site-packages/neurokit2/hrv/hrv_nonlinear.py:529: NeuroKitWarning: DFA_alpha2 related indices will not be calculated. The maximum duration of the windows provided for the long-term correlation is smaller than the minimum duration of windows. Refer to the `scale` argument in `nk.fractal_dfa()` for more information.\n",
      "  warn(\n"
     ]
    },
    {
     "ename": "ValueError",
     "evalue": "NeuroKit error: the window cannot contain more data points than the time series. Decrease 'scale'.",
     "output_type": "error",
     "traceback": [
      "\u001b[0;31m---------------------------------------------------------------------------\u001b[0m",
      "\u001b[0;31mValueError\u001b[0m                                Traceback (most recent call last)",
      "Cell \u001b[0;32mIn[108], line 3\u001b[0m\n\u001b[1;32m      1\u001b[0m \u001b[38;5;66;03m# for person_name, person_data in data.items():\u001b[39;00m\n\u001b[1;32m      2\u001b[0m \u001b[38;5;66;03m# ppg = person_data['PPG_medit']\u001b[39;00m\n\u001b[0;32m----> 3\u001b[0m \u001b[43madd_to_dataset\u001b[49m\u001b[43m(\u001b[49m\u001b[43mppg\u001b[49m\u001b[43m,\u001b[49m\u001b[43m \u001b[49m\u001b[38;5;241;43m0\u001b[39;49m\u001b[43m)\u001b[49m\n\u001b[1;32m      5\u001b[0m     \u001b[38;5;66;03m# ppg = person_data['PPG_stress']\u001b[39;00m\n\u001b[1;32m      6\u001b[0m     \u001b[38;5;66;03m# add_to_dataset(ppg, person_data['stress_lvl_for_stress'])\u001b[39;00m\n",
      "Cell \u001b[0;32mIn[107], line 6\u001b[0m, in \u001b[0;36madd_to_dataset\u001b[0;34m(ppg, label)\u001b[0m\n\u001b[1;32m      4\u001b[0m \u001b[38;5;28;01mwhile\u001b[39;00m(i \u001b[38;5;241m+\u001b[39m wind_size \u001b[38;5;241m<\u001b[39m \u001b[38;5;28mlen\u001b[39m(ppg)):\n\u001b[1;32m      5\u001b[0m     slice_ppg \u001b[38;5;241m=\u001b[39m ppg[i \u001b[38;5;241m-\u001b[39m wind_size : i \u001b[38;5;241m+\u001b[39m wind_size]\n\u001b[0;32m----> 6\u001b[0m     dataset\u001b[38;5;241m.\u001b[39mappend(\u001b[43mget_feature_nk\u001b[49m\u001b[43m(\u001b[49m\u001b[43mslice_ppg\u001b[49m\u001b[43m,\u001b[49m\u001b[43m \u001b[49m\u001b[43mlabel\u001b[49m\u001b[43m)\u001b[49m)\n\u001b[1;32m      7\u001b[0m     i \u001b[38;5;241m+\u001b[39m\u001b[38;5;241m=\u001b[39m wind_size\n",
      "Cell \u001b[0;32mIn[106], line 10\u001b[0m, in \u001b[0;36mget_feature_nk\u001b[0;34m(signal, label)\u001b[0m\n\u001b[1;32m      7\u001b[0m peaks, _ \u001b[38;5;241m=\u001b[39m nk\u001b[38;5;241m.\u001b[39mppg_peaks(signal, sampling_rate\u001b[38;5;241m=\u001b[39mfr_ppg, show\u001b[38;5;241m=\u001b[39m\u001b[38;5;28;01mFalse\u001b[39;00m)\n\u001b[1;32m      8\u001b[0m custom_scales \u001b[38;5;241m=\u001b[39m [\u001b[38;5;241m4\u001b[39m, \u001b[38;5;241m8\u001b[39m, \u001b[38;5;241m16\u001b[39m]\n\u001b[0;32m---> 10\u001b[0m hrv_indixes \u001b[38;5;241m=\u001b[39m \u001b[43mnk\u001b[49m\u001b[38;5;241;43m.\u001b[39;49m\u001b[43mhrv\u001b[49m\u001b[43m(\u001b[49m\n\u001b[1;32m     11\u001b[0m \u001b[43m    \u001b[49m\u001b[43mpeaks\u001b[49m\u001b[43m,\u001b[49m\u001b[43m \u001b[49m\n\u001b[1;32m     12\u001b[0m \u001b[43m    \u001b[49m\u001b[43msampling_rate\u001b[49m\u001b[38;5;241;43m=\u001b[39;49m\u001b[43mfr_ppg\u001b[49m\u001b[43m,\u001b[49m\n\u001b[1;32m     13\u001b[0m \u001b[43m    \u001b[49m\u001b[43mnonlinear_kwargs\u001b[49m\u001b[38;5;241;43m=\u001b[39;49m\u001b[43m{\u001b[49m\u001b[38;5;124;43m\"\u001b[39;49m\u001b[38;5;124;43mscale\u001b[39;49m\u001b[38;5;124;43m\"\u001b[39;49m\u001b[43m:\u001b[49m\u001b[43m \u001b[49m\u001b[43mcustom_scales\u001b[49m\u001b[43m}\u001b[49m\n\u001b[1;32m     14\u001b[0m \u001b[43m\u001b[49m\u001b[43m)\u001b[49m\n\u001b[1;32m     15\u001b[0m hrv_indixes[\u001b[38;5;124m'\u001b[39m\u001b[38;5;124mstress_index\u001b[39m\u001b[38;5;124m'\u001b[39m] \u001b[38;5;241m=\u001b[39m label\n\u001b[1;32m     17\u001b[0m filt_hrv_indixes \u001b[38;5;241m=\u001b[39m hrv_indixes[feature]\n",
      "File \u001b[0;32m~/miniconda3/envs/PPG/lib/python3.10/site-packages/neurokit2/hrv/hrv.py:107\u001b[0m, in \u001b[0;36mhrv\u001b[0;34m(peaks, sampling_rate, show, **kwargs)\u001b[0m\n\u001b[1;32m    105\u001b[0m out\u001b[38;5;241m.\u001b[39mappend(hrv_time(peaks, sampling_rate\u001b[38;5;241m=\u001b[39msampling_rate))\n\u001b[1;32m    106\u001b[0m out\u001b[38;5;241m.\u001b[39mappend(hrv_frequency(peaks, sampling_rate\u001b[38;5;241m=\u001b[39msampling_rate))\n\u001b[0;32m--> 107\u001b[0m out\u001b[38;5;241m.\u001b[39mappend(\u001b[43mhrv_nonlinear\u001b[49m\u001b[43m(\u001b[49m\u001b[43mpeaks\u001b[49m\u001b[43m,\u001b[49m\u001b[43m \u001b[49m\u001b[43msampling_rate\u001b[49m\u001b[38;5;241;43m=\u001b[39;49m\u001b[43msampling_rate\u001b[49m\u001b[43m)\u001b[49m)\n\u001b[1;32m    109\u001b[0m \u001b[38;5;66;03m# Compute RSA if rsp data is available\u001b[39;00m\n\u001b[1;32m    110\u001b[0m \u001b[38;5;28;01mif\u001b[39;00m \u001b[38;5;28misinstance\u001b[39m(peaks, pd\u001b[38;5;241m.\u001b[39mDataFrame):\n",
      "File \u001b[0;32m~/miniconda3/envs/PPG/lib/python3.10/site-packages/neurokit2/hrv/hrv_nonlinear.py:287\u001b[0m, in \u001b[0;36mhrv_nonlinear\u001b[0;34m(peaks, sampling_rate, show, **kwargs)\u001b[0m\n\u001b[1;32m    284\u001b[0m out \u001b[38;5;241m=\u001b[39m _hrv_nonlinear_poincare_hra(rri, rri_time\u001b[38;5;241m=\u001b[39mrri_time, rri_missing\u001b[38;5;241m=\u001b[39mrri_missing, out\u001b[38;5;241m=\u001b[39mout)\n\u001b[1;32m    286\u001b[0m \u001b[38;5;66;03m# DFA\u001b[39;00m\n\u001b[0;32m--> 287\u001b[0m out \u001b[38;5;241m=\u001b[39m \u001b[43m_hrv_dfa\u001b[49m\u001b[43m(\u001b[49m\u001b[43mrri\u001b[49m\u001b[43m,\u001b[49m\u001b[43m \u001b[49m\u001b[43mout\u001b[49m\u001b[43m,\u001b[49m\u001b[43m \u001b[49m\u001b[38;5;241;43m*\u001b[39;49m\u001b[38;5;241;43m*\u001b[39;49m\u001b[43mkwargs\u001b[49m\u001b[43m)\u001b[49m\n\u001b[1;32m    289\u001b[0m \u001b[38;5;66;03m# Complexity\u001b[39;00m\n\u001b[1;32m    290\u001b[0m tolerance \u001b[38;5;241m=\u001b[39m \u001b[38;5;241m0.2\u001b[39m \u001b[38;5;241m*\u001b[39m np\u001b[38;5;241m.\u001b[39mstd(rri, ddof\u001b[38;5;241m=\u001b[39m\u001b[38;5;241m1\u001b[39m)\n",
      "File \u001b[0;32m~/miniconda3/envs/PPG/lib/python3.10/site-packages/neurokit2/hrv/hrv_nonlinear.py:520\u001b[0m, in \u001b[0;36m_hrv_dfa\u001b[0;34m(rri, out, n_windows, **kwargs)\u001b[0m\n\u001b[1;32m    518\u001b[0m short_window \u001b[38;5;241m=\u001b[39m np\u001b[38;5;241m.\u001b[39mlinspace(dfa_windows[\u001b[38;5;241m0\u001b[39m][\u001b[38;5;241m0\u001b[39m], dfa_windows[\u001b[38;5;241m0\u001b[39m][\u001b[38;5;241m1\u001b[39m], n_windows_short)\u001b[38;5;241m.\u001b[39mastype(\u001b[38;5;28mint\u001b[39m)\n\u001b[1;32m    519\u001b[0m \u001b[38;5;66;03m# For monofractal\u001b[39;00m\n\u001b[0;32m--> 520\u001b[0m out[\u001b[38;5;124m\"\u001b[39m\u001b[38;5;124mDFA_alpha1\u001b[39m\u001b[38;5;124m\"\u001b[39m], _ \u001b[38;5;241m=\u001b[39m \u001b[43mfractal_dfa\u001b[49m\u001b[43m(\u001b[49m\u001b[43mrri\u001b[49m\u001b[43m,\u001b[49m\u001b[43m \u001b[49m\u001b[43mmultifractal\u001b[49m\u001b[38;5;241;43m=\u001b[39;49m\u001b[38;5;28;43;01mFalse\u001b[39;49;00m\u001b[43m,\u001b[49m\u001b[43m \u001b[49m\u001b[43mscale\u001b[49m\u001b[38;5;241;43m=\u001b[39;49m\u001b[43mshort_window\u001b[49m\u001b[43m,\u001b[49m\u001b[43m \u001b[49m\u001b[38;5;241;43m*\u001b[39;49m\u001b[38;5;241;43m*\u001b[39;49m\u001b[43mkwargs\u001b[49m\u001b[43m)\u001b[49m\n\u001b[1;32m    521\u001b[0m \u001b[38;5;66;03m# For multifractal\u001b[39;00m\n\u001b[1;32m    522\u001b[0m mdfa_alpha1, _ \u001b[38;5;241m=\u001b[39m fractal_dfa(rri, multifractal\u001b[38;5;241m=\u001b[39m\u001b[38;5;28;01mTrue\u001b[39;00m, q\u001b[38;5;241m=\u001b[39mnp\u001b[38;5;241m.\u001b[39marange(\u001b[38;5;241m-\u001b[39m\u001b[38;5;241m5\u001b[39m, \u001b[38;5;241m6\u001b[39m), scale\u001b[38;5;241m=\u001b[39mshort_window, \u001b[38;5;241m*\u001b[39m\u001b[38;5;241m*\u001b[39mkwargs)\n",
      "File \u001b[0;32m~/miniconda3/envs/PPG/lib/python3.10/site-packages/neurokit2/complexity/fractal_dfa.py:212\u001b[0m, in \u001b[0;36mfractal_dfa\u001b[0;34m(signal, scale, overlap, integrate, order, multifractal, q, maxdfa, show, **kwargs)\u001b[0m\n\u001b[1;32m    207\u001b[0m     \u001b[38;5;28;01mraise\u001b[39;00m \u001b[38;5;167;01mValueError\u001b[39;00m(\n\u001b[1;32m    208\u001b[0m         \u001b[38;5;124m\"\u001b[39m\u001b[38;5;124mMultidimensional inputs (e.g., matrices or multichannel data) are not supported yet.\u001b[39m\u001b[38;5;124m\"\u001b[39m\n\u001b[1;32m    209\u001b[0m     )\n\u001b[1;32m    211\u001b[0m n \u001b[38;5;241m=\u001b[39m \u001b[38;5;28mlen\u001b[39m(signal)\n\u001b[0;32m--> 212\u001b[0m scale \u001b[38;5;241m=\u001b[39m \u001b[43m_fractal_dfa_findscales\u001b[49m\u001b[43m(\u001b[49m\u001b[43mn\u001b[49m\u001b[43m,\u001b[49m\u001b[43m \u001b[49m\u001b[43mscale\u001b[49m\u001b[43m)\u001b[49m\n\u001b[1;32m    214\u001b[0m \u001b[38;5;66;03m# Sanitize fractal power (cannot be close to 0)\u001b[39;00m\n\u001b[1;32m    215\u001b[0m q \u001b[38;5;241m=\u001b[39m _sanitize_q(q, multifractal\u001b[38;5;241m=\u001b[39mmultifractal)\n",
      "File \u001b[0;32m~/miniconda3/envs/PPG/lib/python3.10/site-packages/neurokit2/complexity/fractal_dfa.py:332\u001b[0m, in \u001b[0;36m_fractal_dfa_findscales\u001b[0;34m(n, scale)\u001b[0m\n\u001b[1;32m    328\u001b[0m     \u001b[38;5;28;01mraise\u001b[39;00m \u001b[38;5;167;01mValueError\u001b[39;00m(\n\u001b[1;32m    329\u001b[0m         \u001b[38;5;124m\"\u001b[39m\u001b[38;5;124mNeuroKit error: there must be at least 2 data points in each window. Decrease \u001b[39m\u001b[38;5;124m'\u001b[39m\u001b[38;5;124mscale\u001b[39m\u001b[38;5;124m'\u001b[39m\u001b[38;5;124m.\u001b[39m\u001b[38;5;124m\"\u001b[39m\n\u001b[1;32m    330\u001b[0m     )\n\u001b[1;32m    331\u001b[0m \u001b[38;5;28;01mif\u001b[39;00m np\u001b[38;5;241m.\u001b[39mmax(scale) \u001b[38;5;241m>\u001b[39m\u001b[38;5;241m=\u001b[39m n:\n\u001b[0;32m--> 332\u001b[0m     \u001b[38;5;28;01mraise\u001b[39;00m \u001b[38;5;167;01mValueError\u001b[39;00m(\n\u001b[1;32m    333\u001b[0m         \u001b[38;5;124m\"\u001b[39m\u001b[38;5;124mNeuroKit error: the window cannot contain more data points than the time series. Decrease \u001b[39m\u001b[38;5;124m'\u001b[39m\u001b[38;5;124mscale\u001b[39m\u001b[38;5;124m'\u001b[39m\u001b[38;5;124m.\u001b[39m\u001b[38;5;124m\"\u001b[39m\n\u001b[1;32m    334\u001b[0m     )\n\u001b[1;32m    336\u001b[0m \u001b[38;5;28;01mreturn\u001b[39;00m scale\n",
      "\u001b[0;31mValueError\u001b[0m: NeuroKit error: the window cannot contain more data points than the time series. Decrease 'scale'."
     ]
    }
   ],
   "source": [
    "# for person_name, person_data in data.items():\n",
    "# ppg = person_data['PPG_medit']\n",
    "add_to_dataset(ppg, 0)\n",
    "\n",
    "    # ppg = person_data['PPG_stress']\n",
    "    # add_to_dataset(ppg, person_data['stress_lvl_for_stress'])\n"
   ]
  },
  {
   "cell_type": "code",
   "execution_count": 109,
   "metadata": {},
   "outputs": [],
   "source": [
    "pd_dataset = pd.DataFrame(dataset)\n",
    "pd_dataset.to_csv(\"ppg_feature.csv\", index=False)"
   ]
  }
 ],
 "metadata": {
  "kernelspec": {
   "display_name": "PPG",
   "language": "python",
   "name": "python3"
  },
  "language_info": {
   "codemirror_mode": {
    "name": "ipython",
    "version": 3
   },
   "file_extension": ".py",
   "mimetype": "text/x-python",
   "name": "python",
   "nbconvert_exporter": "python",
   "pygments_lexer": "ipython3",
   "version": "3.10.16"
  }
 },
 "nbformat": 4,
 "nbformat_minor": 2
}
