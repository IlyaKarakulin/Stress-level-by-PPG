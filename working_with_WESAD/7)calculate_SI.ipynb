{
 "cells": [
  {
   "cell_type": "code",
   "execution_count": 1,
   "metadata": {},
   "outputs": [],
   "source": [
    "import pandas as pd\n",
    "import numpy as np\n",
    "from scipy.stats import mode\n",
    "\n",
    "import neurokit2 as nk"
   ]
  },
  {
   "cell_type": "code",
   "execution_count": 2,
   "metadata": {},
   "outputs": [],
   "source": [
    "data = pd.read_pickle(f'filt_dataset.pkl')"
   ]
  },
  {
   "cell_type": "code",
   "execution_count": null,
   "metadata": {},
   "outputs": [],
   "source": [
    "def SI(rr_int_ms, window=344, si_percent=0.1):\n",
    "\n",
    "    rr_int_s = rr_int_ms / 1000\n",
    "    ret = []\n",
    "\n",
    "    for i in range(len(rr_int_s)-window):\n",
    "        sample = rr_int_s[i:i+window]\n",
    "        MO = np.median(sample)\n",
    "        AMO = (np.abs(sample - MO)<si_percent).mean()*100\n",
    "        MxDMn = sample.max() - sample.min()\n",
    "        \n",
    "        si = AMO/(2*MO*MxDMn)\n",
    "        if si > 1000:\n",
    "            sample = sample + np.random.randint(-100, 110, len(sample))/1000\n",
    "            MO = np.median(sample)\n",
    "            AMO = (np.abs(sample - MO)<si_percent).mean()*100\n",
    "            MxDMn = sample.max() - sample.min()\n",
    "            if (MO*MxDMn) == 0:\n",
    "                si = 0\n",
    "            si = AMO/(2*MO*MxDMn)\n",
    "        \n",
    "        ret.append(si)\n",
    "    return np.array(ret)"
   ]
  },
  {
   "cell_type": "code",
   "execution_count": null,
   "metadata": {},
   "outputs": [],
   "source": [
    "person_5_stress_PPG_signal = data['S15']['PPG_medit']\n",
    "\n",
    "peaks, info = nk.ppg_peaks(person_5_stress_PPG_signal, sampling_rate=64)\n",
    "\n",
    "peaks_sample_num = []\n",
    "for i in range(0, len(peaks['PPG_Peaks'])):\n",
    "    if(peaks['PPG_Peaks'][i] == 1):\n",
    "        peaks_sample_num.append(i)\n",
    "\n",
    "r_peaks_seconds = []\n",
    "for peak in peaks_sample_num:\n",
    "    r_peaks_seconds.append(peak / 64)\n",
    "\n",
    "rr_intervals_ms = np.diff(r_peaks_seconds) * 1000\n",
    "\n",
    "print(SI(rr_intervals_ms)) # значение 50-150 норма, остальное отклонение"
   ]
  }
 ],
 "metadata": {
  "kernelspec": {
   "display_name": "PPG",
   "language": "python",
   "name": "python3"
  },
  "language_info": {
   "codemirror_mode": {
    "name": "ipython",
    "version": 3
   },
   "file_extension": ".py",
   "mimetype": "text/x-python",
   "name": "python",
   "nbconvert_exporter": "python",
   "pygments_lexer": "ipython3",
   "version": "3.10.16"
  }
 },
 "nbformat": 4,
 "nbformat_minor": 2
}
