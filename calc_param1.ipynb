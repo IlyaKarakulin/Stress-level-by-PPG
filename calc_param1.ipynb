{
 "cells": [
  {
   "cell_type": "code",
   "execution_count": 74,
   "metadata": {},
   "outputs": [],
   "source": [
    "import pandas as pd\n",
    "import numpy as np\n",
    "\n",
    "import neurokit2 as nk\n",
    "import features as fp\n",
    "import heartpy as hp"
   ]
  },
  {
   "cell_type": "code",
   "execution_count": 75,
   "metadata": {},
   "outputs": [],
   "source": [
    "data = pd.read_pickle(f'/home/ikx/Desktop/stress-level-by-PPG/filt_dataset.pkl')"
   ]
  },
  {
   "cell_type": "code",
   "execution_count": null,
   "metadata": {},
   "outputs": [
    {
     "name": "stdout",
     "output_type": "stream",
     "text": [
      "{'bpm': np.float64(70.8543053831396), 'ibi': np.float64(846.8081039755351), 'sdnn': np.float64(89.49419895648995), 'sdsd': np.float64(96.74006417116728), 'rmssd': np.float64(122.47436097454609), 'pnn20': 0.6518987341772152, 'pnn50': 0.3860759493670886, 'hr_mad': np.float64(46.875), 'sd1': np.float64(86.59380480327688), 'sd2': np.float64(91.1737762881102), 's': np.float64(24803.138481572838), 'sd1/sd2': np.float64(0.9497665702651105), 'breathingrate': np.float64(0.13333333333333333)}\n",
      "0    26684.25362\n",
      "Name: HRV_S, dtype: float64\n",
      "0    26685.25362\n",
      "Name: HRV_S, dtype: float64\n"
     ]
    }
   ],
   "source": [
    "person_5_stress_PPG_signal = data['S15']['PPG_medit']\n",
    "\n",
    "peaks, info = nk.ppg_peaks(person_5_stress_PPG_signal, sampling_rate=64)\n",
    "\n",
    "peaks_sample_num = []\n",
    "for i in range(0, len(peaks['PPG_Peaks'])):\n",
    "    if(peaks['PPG_Peaks'][i] == 1):\n",
    "        peaks_sample_num.append(i)\n",
    "\n",
    "r_peaks_seconds = []\n",
    "for peak in peaks_sample_num:\n",
    "    r_peaks_seconds.append(peak / 64)\n",
    "\n",
    "rr_intervals = np.diff(r_peaks_seconds)\n",
    "rr_intervals_ms = rr_intervals * 1000 \n",
    "\n",
    "# rr_intervals_ms = np.array(rr_intervals)\n",
    "\n",
    "wd, m = hp.process(\n",
    "    person_5_stress_PPG_signal,\n",
    "    sample_rate=64\n",
    ")\n",
    "\n",
    "print(m)\n",
    "\n",
    "hr = fp.HR(rr_intervals_ms, window= len(rr_intervals) - 1)\n",
    "si = fp.SI(rr_intervals_ms, window= 344)\n",
    "\n",
    "hvr = nk.hrv(peaks, sampling_rate= 64)\n",
    "print(hvr['HRV_S'])\n"
   ]
  },
  {
   "cell_type": "code",
   "execution_count": null,
   "metadata": {},
   "outputs": [],
   "source": []
  },
  {
   "cell_type": "code",
   "execution_count": null,
   "metadata": {},
   "outputs": [],
   "source": [
    "\n"
   ]
  }
 ],
 "metadata": {
  "kernelspec": {
   "display_name": "Python 3",
   "language": "python",
   "name": "python3"
  },
  "language_info": {
   "codemirror_mode": {
    "name": "ipython",
    "version": 3
   },
   "file_extension": ".py",
   "mimetype": "text/x-python",
   "name": "python",
   "nbconvert_exporter": "python",
   "pygments_lexer": "ipython3",
   "version": "3.12.3"
  }
 },
 "nbformat": 4,
 "nbformat_minor": 2
}
